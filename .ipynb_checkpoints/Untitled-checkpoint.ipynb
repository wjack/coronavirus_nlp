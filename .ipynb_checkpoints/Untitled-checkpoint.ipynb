{
 "cells": [
  {
   "cell_type": "code",
   "execution_count": null,
   "metadata": {},
   "outputs": [],
   "source": [
    "%matplotlib inline\n",
    "import pandas as pd \n",
    "import numpy as np \n",
    "import json \n",
    "import os\n",
    "import umap\n",
    "from sentence_transformers import SentenceTransformer\n",
    "import matplotlib.pyplot as plt\n",
    "plt.rcParams['figure.figsize'] = [15, 15]"
   ]
  },
  {
   "cell_type": "code",
   "execution_count": null,
   "metadata": {},
   "outputs": [],
   "source": [
    "with open('../data/reddit_comments.json', 'r') as f: \n",
    "    comments = json.loads(f.read())"
   ]
  },
  {
   "cell_type": "code",
   "execution_count": null,
   "metadata": {},
   "outputs": [],
   "source": [
    "len(comments)"
   ]
  },
  {
   "cell_type": "code",
   "execution_count": null,
   "metadata": {},
   "outputs": [],
   "source": [
    "model = SentenceTransformer('bert-base-nli-mean-tokens')"
   ]
  },
  {
   "cell_type": "code",
   "execution_count": null,
   "metadata": {},
   "outputs": [],
   "source": [
    "sentences = ['Test sentence A']\n",
    "embeddings = model.encode(sentences)"
   ]
  },
  {
   "cell_type": "code",
   "execution_count": null,
   "metadata": {},
   "outputs": [],
   "source": [
    "chunk_size = 1000\n",
    "i = 0\n",
    "while i < len(comments):\n",
    "    chunk = comments[i:min(i+chunk_size, len(comments))]\n",
    "    chunk_sentences = [c['body'] for c in chunk]\n",
    "    vectors = model.encode(comments[i]['body']) \n",
    "    for j in range(len(vectors)): \n",
    "        comments[i + j]['embedding'] = vectors[j]\n",
    "    i += chunk_size\n",
    "\n"
   ]
  },
  {
   "cell_type": "code",
   "execution_count": null,
   "metadata": {},
   "outputs": [],
   "source": [
    "reducer = umap.UMAP() \n",
    "reducer.fit([c['embedding'] for c in comments if 'embedding' in c])\n",
    "transformed_comments = reducer.transform([c['embedding'] for c in comments if 'embedding' in c])\n",
    "\n"
   ]
  },
  {
   "cell_type": "code",
   "execution_count": null,
   "metadata": {},
   "outputs": [],
   "source": []
  },
  {
   "cell_type": "code",
   "execution_count": null,
   "metadata": {},
   "outputs": [],
   "source": []
  },
  {
   "cell_type": "code",
   "execution_count": null,
   "metadata": {},
   "outputs": [],
   "source": [
    "sample_idx = np.random.choice(np.arange(len(transformed_comments)), 10000, replace=False) \n",
    "plot_comments = transformed_comments[sample_idx]\n",
    "\n",
    "comment_times = [c['created_utc'] for c in comments if 'embedding' in c]\n",
    "maxt = max(comment_times)\n",
    "mint = min(comment_times)\n",
    "scaled_comment_times = np.array([float(t - mint)/(maxt-mint) for t in comment_times])\n",
    "sampled_times = scaled_comment_times[sample_idx]\n",
    "\n",
    "plt.scatter(x=plot_comments[:, 0], y=plot_comments[:, 1], marker='.', c=sampled_times, cmap=plt.get_cmap('plasma'))\n",
    "plt.show()"
   ]
  },
  {
   "cell_type": "code",
   "execution_count": null,
   "metadata": {},
   "outputs": [],
   "source": [
    "plot_comments.shape"
   ]
  },
  {
   "cell_type": "code",
   "execution_count": null,
   "metadata": {},
   "outputs": [],
   "source": [
    "comment_times = [c['created_utc'] for c in comments if 'embedding' in c]\n",
    "maxt = max(comment_times)\n",
    "mint = min(comment_times)\n",
    "scaled_comment_times = np.array([float(t - mint)/(maxt-mint) for t in comment_times])"
   ]
  },
  {
   "cell_type": "code",
   "execution_count": null,
   "metadata": {},
   "outputs": [],
   "source": [
    "max(scaled_comment_times)"
   ]
  },
  {
   "cell_type": "code",
   "execution_count": null,
   "metadata": {},
   "outputs": [],
   "source": []
  }
 ],
 "metadata": {
  "kernelspec": {
   "display_name": "Python 3",
   "language": "python",
   "name": "python3"
  },
  "language_info": {
   "codemirror_mode": {
    "name": "ipython",
    "version": 3
   },
   "file_extension": ".py",
   "mimetype": "text/x-python",
   "name": "python",
   "nbconvert_exporter": "python",
   "pygments_lexer": "ipython3",
   "version": "3.7.0"
  }
 },
 "nbformat": 4,
 "nbformat_minor": 2
}
